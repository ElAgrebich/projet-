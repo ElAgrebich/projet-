{
 "cells": [
  {
   "cell_type": "markdown",
   "id": "surface-ballot",
   "metadata": {},
   "source": [
    "# Livrable 2 : Projet modélisation numérique \n",
    "\n",
    "**Groupe** : Ali Agrebi - Iliès Nazih - Yann Letournel - Albane Geoffroy - Charlotte Gosset-Grainville"
   ]
  },
  {
   "cell_type": "code",
   "execution_count": 2,
   "id": "saved-garlic",
   "metadata": {},
   "outputs": [],
   "source": [
    "L=0.7\n",
    "Points = [[0,0],[0,L],[L,0]]\n",
    "Barres = [[0,1],[1,2],[2,0]]"
   ]
  },
  {
   "cell_type": "markdown",
   "id": "proper-robert",
   "metadata": {},
   "source": [
    "Pour les valeurs numériques nous avons : $L=0.2m, A=100mm^2, E=200 000MPa, F=-10 000N$"
   ]
  },
  {
   "cell_type": "code",
   "execution_count": 5,
   "id": "korean-champagne",
   "metadata": {},
   "outputs": [
    {
     "ename": "TypeError",
     "evalue": "list indices must be integers or slices, not tuple",
     "output_type": "error",
     "traceback": [
      "\u001b[0;31m---------------------------------------------------------------------------\u001b[0m",
      "\u001b[0;31mTypeError\u001b[0m                                 Traceback (most recent call last)",
      "\u001b[0;32m<ipython-input-5-a3bc16aae7db>\u001b[0m in \u001b[0;36m<module>\u001b[0;34m\u001b[0m\n\u001b[1;32m     20\u001b[0m     \u001b[0mm\u001b[0m\u001b[0;34m=\u001b[0m\u001b[0mnp\u001b[0m\u001b[0;34m.\u001b[0m\u001b[0mdot\u001b[0m\u001b[0;34m(\u001b[0m\u001b[0mCSt\u001b[0m\u001b[0;34m,\u001b[0m\u001b[0mCS\u001b[0m\u001b[0;34m)\u001b[0m\u001b[0;34m*\u001b[0m\u001b[0mA\u001b[0m\u001b[0;34m*\u001b[0m\u001b[0mE\u001b[0m\u001b[0;34m/\u001b[0m\u001b[0mell\u001b[0m\u001b[0;34m\u001b[0m\u001b[0;34m\u001b[0m\u001b[0m\n\u001b[1;32m     21\u001b[0m \u001b[0;34m\u001b[0m\u001b[0m\n\u001b[0;32m---> 22\u001b[0;31m     \u001b[0mM\u001b[0m\u001b[0;34m[\u001b[0m\u001b[0;36m2\u001b[0m \u001b[0;34m*\u001b[0m \u001b[0mp1\u001b[0m\u001b[0;34m,\u001b[0m \u001b[0;36m2\u001b[0m \u001b[0;34m*\u001b[0m \u001b[0mp1\u001b[0m\u001b[0;34m]\u001b[0m \u001b[0;34m+=\u001b[0m \u001b[0mm\u001b[0m\u001b[0;34m[\u001b[0m\u001b[0;36m0\u001b[0m\u001b[0;34m,\u001b[0m \u001b[0;36m0\u001b[0m\u001b[0;34m]\u001b[0m\u001b[0;34m\u001b[0m\u001b[0;34m\u001b[0m\u001b[0m\n\u001b[0m\u001b[1;32m     23\u001b[0m     \u001b[0mM\u001b[0m\u001b[0;34m[\u001b[0m\u001b[0;36m2\u001b[0m \u001b[0;34m*\u001b[0m \u001b[0mp1\u001b[0m\u001b[0;34m,\u001b[0m \u001b[0;36m2\u001b[0m \u001b[0;34m*\u001b[0m \u001b[0mp1\u001b[0m \u001b[0;34m+\u001b[0m \u001b[0;36m1\u001b[0m\u001b[0;34m]\u001b[0m \u001b[0;34m+=\u001b[0m \u001b[0mm\u001b[0m\u001b[0;34m[\u001b[0m\u001b[0;36m0\u001b[0m\u001b[0;34m,\u001b[0m \u001b[0;36m1\u001b[0m\u001b[0;34m]\u001b[0m\u001b[0;34m\u001b[0m\u001b[0;34m\u001b[0m\u001b[0m\n\u001b[1;32m     24\u001b[0m     \u001b[0mM\u001b[0m\u001b[0;34m[\u001b[0m\u001b[0;36m2\u001b[0m \u001b[0;34m*\u001b[0m \u001b[0mp1\u001b[0m\u001b[0;34m,\u001b[0m \u001b[0;36m2\u001b[0m \u001b[0;34m*\u001b[0m \u001b[0mp2\u001b[0m\u001b[0;34m]\u001b[0m \u001b[0;34m+=\u001b[0m \u001b[0mm\u001b[0m\u001b[0;34m[\u001b[0m\u001b[0;36m0\u001b[0m\u001b[0;34m,\u001b[0m \u001b[0;36m2\u001b[0m\u001b[0;34m]\u001b[0m\u001b[0;34m\u001b[0m\u001b[0;34m\u001b[0m\u001b[0m\n",
      "\u001b[0;31mTypeError\u001b[0m: list indices must be integers or slices, not tuple"
     ]
    }
   ],
   "source": [
    "import numpy as np\n",
    "\n",
    "L=0.2\n",
    "A=100*1E-6\n",
    "E=200000*1E6\n",
    "F=-10000\n",
    "M=[]\n",
    "\n",
    "for p1, p2 in Barres:\n",
    "    x1=Points[p1][0]\n",
    "    y1=Points[p1][1]\n",
    "    x2=Points[p2][0]\n",
    "    y2=Points[p2][1]\n",
    "    \n",
    "    ell = np.sqrt((x2-x1)**2+(y2-y1)**2)\n",
    "    c=(x2-x1)/ell\n",
    "    s=(y2-y1)/ell\n",
    "    CS=np.mat([c,s,-c,-s], dtype=float)\n",
    "    CSt=np.transpose(CS)\n",
    "    m=np.dot(CSt,CS)*A*E/ell\n",
    "    \n",
    "    M[2 * p1, 2 * p1] += m[0, 0]\n",
    "    M[2 * p1, 2 * p1 + 1] += m[0, 1]\n",
    "    M[2 * p1, 2 * p2] += m[0, 2]\n",
    "    M[2 * p1, 2 * p2 + 1] += m[0, 3]\n",
    "    M[2 * p1 + 1, 2 * p1] += m[1, 0]\n",
    "    M[2 * p1 + 1, 2 * p1 + 1] += m[1, 1]\n",
    "    M[2 * p1 + 1, 2 * p2] += m[1, 2]\n",
    "    M[2 * p1 + 1, 2 * p2 + 1] += m[1, 3]\n",
    "    M[2 * p2, 2 * p1] += m[2, 0]\n",
    "    M[2 * p2, 2 * p1 + 1] += m[2, 1]\n",
    "    M[2 * p2, 2 * p2] += m[2, 2]\n",
    "    M[2 * p2, 2 * p2 + 1] += m[2, 3]\n",
    "    M[2 * p2 + 1, 2 * p1] += m[3, 0]\n",
    "    M[2 * p2 + 1, 2 * p1 + 1] += m[3, 1]\n",
    "    M[2 * p2 + 1, 2 * p2] += m[3, 2]\n",
    "    M[2 * p2 + 1, 2 * p2 + 1] += m[3, 3]\n",
    "    \n",
    "    "
   ]
  },
  {
   "cell_type": "code",
   "execution_count": null,
   "id": "developmental-battlefield",
   "metadata": {},
   "outputs": [],
   "source": []
  }
 ],
 "metadata": {
  "kernelspec": {
   "display_name": "Python 3",
   "language": "python",
   "name": "python3"
  },
  "language_info": {
   "codemirror_mode": {
    "name": "ipython",
    "version": 3
   },
   "file_extension": ".py",
   "mimetype": "text/x-python",
   "name": "python",
   "nbconvert_exporter": "python",
   "pygments_lexer": "ipython3",
   "version": "3.7.1"
  }
 },
 "nbformat": 4,
 "nbformat_minor": 5
}
